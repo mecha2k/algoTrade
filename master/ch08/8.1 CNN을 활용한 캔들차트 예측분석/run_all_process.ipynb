{
 "cells": [
  {
   "cell_type": "code",
   "execution_count": 2,
   "metadata": {},
   "outputs": [
    {
     "name": "stdout",
     "output_type": "stream",
     "text": [
      "python run_binary_preprocessing.py \"BBNI.JK\" \"20\" \"50\"\n",
      "python generatedata.py \"dataset\" \"20_50/BBNI.JK\" \"dataset_BBNIJK_20_50\" \n",
      "python myDeepCNN.py \"-i\" \"dataset/dataset_BBNIJK_20_50\" \"-e\" \"50\" \"-d\" \"50\" \"-b\" \"8\" \"-o\" \"outputresult.txt\"\n"
     ]
    }
   ],
   "source": [
    "import subprocess\n",
    "\n",
    "try:\n",
    "    print(f'python run_binary_preprocessing.py \"BBNI.JK\" \"20\" \"50\"')\n",
    "    subprocess.call(f'python run_binary_preprocessing.py  \"BBNI.JK\" \"20\" \"50\" ', shell=True)\n",
    "\n",
    "    print(f'python generatedata.py \"dataset\" \"20_50/BBNI.JK\" \"dataset_BBNIJK_20_50\" ')\n",
    "    subprocess.call(f'python generatedata.py \"dataset\" \"20_50/BBNI.JK\" \"dataset_BBNIJK_20_50\" ', shell=True)\n",
    "\n",
    "    print(f'python myDeepCNN.py \"-i\" \"dataset/dataset_BBNIJK_20_50\" \"-e\" \"50\" \"-d\" \"50\" \"-b\" \"8\" \"-o\" \"outputresult.txt\"')\n",
    "    subprocess.call(f'python myDeepCNN.py \"-i\" \"dataset/dataset_BBNIJK_20_50\" \"-e\" \"50\" \"-d\" \"50\" \"-b\" \"8\" \"-o\" \"outputresult.txt\"', shell=True)\n",
    "except Exception as identifier:\n",
    "    print(identifier)"
   ]
  },
  {
   "cell_type": "code",
   "execution_count": null,
   "metadata": {},
   "outputs": [],
   "source": []
  }
 ],
 "metadata": {
  "kernelspec": {
   "display_name": "Python 3",
   "language": "python",
   "name": "python3"
  },
  "language_info": {
   "codemirror_mode": {
    "name": "ipython",
    "version": 3
   },
   "file_extension": ".py",
   "mimetype": "text/x-python",
   "name": "python",
   "nbconvert_exporter": "python",
   "pygments_lexer": "ipython3",
   "version": "3.6.7"
  }
 },
 "nbformat": 4,
 "nbformat_minor": 4
}
